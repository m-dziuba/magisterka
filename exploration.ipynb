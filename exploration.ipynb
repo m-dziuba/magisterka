{
 "cells": [
  {
   "cell_type": "code",
   "execution_count": 1,
   "metadata": {},
   "outputs": [],
   "source": [
    "from pathlib import Path\n",
    "\n",
    "import joblib\n",
    "import numpy as np\n",
    "import optuna\n",
    "import pandas as pd\n",
    "import tensorflow as tf\n",
    "from gensim.models import KeyedVectors\n",
    "from keras.layers import TextVectorization\n",
    "from optuna.trial import TrialState\n",
    "from sklearn.preprocessing import LabelBinarizer\n",
    "from tensorflow import keras\n",
    "\n",
    "from models import ModelHandler, create_embedding_layer, load_model\n",
    "from readers import generate_datasets, get_finished_embedding_models, get_embedding_models_paths\n",
    "from main import main"
   ]
  },
  {
   "cell_type": "code",
   "execution_count": 2,
   "metadata": {},
   "outputs": [
    {
     "name": "stdout",
     "output_type": "stream",
     "text": [
      "('clean', 'lemmas')\n",
      "('clean', 'lemmas', 'no_stopwords')\n",
      "('no_stopwords',)\n",
      "('clean',)\n",
      "('lemmas', 'no_stopwords')\n",
      "('lemmas',)\n",
      "('clean', 'no_stopwords')\n"
     ]
    }
   ],
   "source": [
    "which = \"cnn_lstm\"\n",
    "tf.get_logger().setLevel(\"INFO\")\n",
    "df = pd.concat(\n",
    "    [\n",
    "        pd.read_csv(\"data/dane treningowe_I etap.csv\"),\n",
    "        pd.read_csv(\"data/dane testowe.csv\"),\n",
    "    ]\n",
    ")\n",
    "label_binarizer = LabelBinarizer()\n",
    "\n",
    "embedding_models_paths = get_embedding_models_paths()\n",
    "bin_y = label_binarizer.fit_transform(df[\"class\"])\n",
    "dataset = generate_datasets(df)\n",
    "embedding_models_cache = {}\n",
    "\n",
    "results_so_far = get_finished_embedding_models(f\"./results/{which}\")"
   ]
  },
  {
   "cell_type": "code",
   "execution_count": null,
   "metadata": {},
   "outputs": [
    {
     "name": "stdout",
     "output_type": "stream",
     "text": [
      "nkjp+wiki-lemmas-all-100-cbow-ns.txt\n",
      "clean+lemmas nkjp+wiki-lemmas-all-100-cbow-ns.txt\n"
     ]
    },
    {
     "name": "stderr",
     "output_type": "stream",
     "text": [
      "\u001b[32m[I 2023-04-16 15:01:27,409]\u001b[0m A new study created in RDB with name: no-name-d361e422-0912-431f-ac32-90aa357a60c2\u001b[0m\n"
     ]
    },
    {
     "name": "stdout",
     "output_type": "stream",
     "text": [
      "Epoch 1/100\n",
      "Epoch 2/100\n",
      "Epoch 3/100\n",
      "Epoch 4/100\n",
      "Epoch 5/100\n",
      "Epoch 6/100\n",
      "Epoch 7/100\n",
      "Epoch 8/100\n",
      "Epoch 9/100\n",
      "Epoch 10/100\n",
      "Epoch 11/100\n",
      "Epoch 12/100\n",
      "Epoch 13/100\n",
      "Epoch 14/100\n",
      "Epoch 15/100\n",
      "Epoch 16/100\n",
      "Epoch 17/100\n",
      "Epoch 18/100\n",
      "Epoch 19/100\n",
      "Epoch 20/100\n",
      "Epoch 21/100\n",
      "Epoch 22/100\n",
      "Epoch 23/100\n",
      "Epoch 24/100\n",
      "Epoch 25/100\n",
      "Epoch 26/100\n",
      "Epoch 27/100\n",
      "Epoch 28/100\n",
      "Epoch 29/100\n",
      "Epoch 30/100\n",
      "Epoch 31/100\n",
      "Epoch 32/100\n",
      "Epoch 33/100\n",
      "Epoch 34/100\n",
      "Epoch 35/100\n",
      "Epoch 36/100\n",
      "Epoch 37/100\n",
      "Epoch 38/100\n",
      "Epoch 39/100\n",
      "Epoch 40/100\n",
      "Epoch 41/100\n",
      "Epoch 42/100\n",
      "Epoch 43/100\n",
      "Epoch 44/100\n",
      "Epoch 45/100\n",
      "Epoch 46/100\n",
      "Epoch 47/100\n",
      "Epoch 48/100\n",
      "Epoch 49/100\n",
      "Epoch 50/100\n",
      "Epoch 51/100\n",
      "Epoch 52/100\n",
      "Epoch 53/100\n",
      "Epoch 54/100\n",
      "Epoch 55/100\n",
      "Epoch 56/100\n",
      "Epoch 57/100\n",
      "Epoch 58/100\n",
      "Epoch 59/100\n",
      "Epoch 60/100\n",
      "Epoch 61/100\n",
      "Epoch 62/100\n",
      "Epoch 63/100\n",
      "Epoch 64/100\n",
      "Epoch 65/100\n",
      "Epoch 66/100\n",
      "Epoch 67/100\n",
      "Epoch 68/100\n",
      "Epoch 69/100\n",
      "Epoch 70/100\n",
      "Epoch 71/100\n",
      "Epoch 72/100\n",
      "Epoch 73/100\n",
      "Epoch 74/100\n",
      "Epoch 75/100\n",
      "Epoch 76/100\n",
      "Epoch 77/100\n",
      "Epoch 78/100\n",
      "Epoch 79/100\n",
      "Epoch 80/100\n",
      "Epoch 81/100\n",
      "Epoch 82/100\n",
      "Epoch 83/100\n",
      "Epoch 84/100\n",
      "Epoch 85/100\n",
      "Epoch 86/100\n",
      "Epoch 87/100\n",
      "Epoch 88/100\n",
      "Epoch 89/100\n",
      "Epoch 90/100\n",
      "Epoch 91/100\n",
      "Epoch 92/100\n",
      "Epoch 93/100\n",
      "Epoch 94/100\n",
      "Epoch 95/100\n",
      "Epoch 96/100\n",
      "Epoch 97/100\n",
      "Epoch 98/100\n",
      "Epoch 99/100\n",
      "Epoch 100/100\n"
     ]
    },
    {
     "name": "stderr",
     "output_type": "stream",
     "text": [
      "\u001b[32m[I 2023-04-16 15:03:57,129]\u001b[0m Trial 0 finished with value: 0.6800486445426941 and parameters: {'lstm_first_layer_size': 19, 'lstm_second_layer_size': 64, 'lstm_third_layer_size': 62, 'learning_rate': 1.5957838786357357e-05}. Best is trial 0 with value: 0.6800486445426941.\u001b[0m\n"
     ]
    },
    {
     "name": "stdout",
     "output_type": "stream",
     "text": [
      "Epoch 1/100\n",
      "Epoch 2/100\n"
     ]
    }
   ],
   "source": [
    "for file_path in embedding_models_paths.keys():\n",
    "    result = {}\n",
    "    file = embedding_models_paths[file_path]\n",
    "\n",
    "    if file_path in results_so_far.keys():\n",
    "        continue\n",
    "\n",
    "    if file.name not in embedding_models_cache.keys():\n",
    "        embedding_models_cache[file.name] = load_model(file) \n",
    "\n",
    "    for data in dataset.columns:\n",
    "        if \"lemmas\" not in data and \"lemmas\" not in file_path:\n",
    "            print(data, file_path)\n",
    "            result = main(which, dataset[data], bin_y, embedding_models_cache[file.name])\n",
    "        elif \"lemmas\" in data and \"forms\" not in file_path:\n",
    "            print(data, file_path)\n",
    "            result = main(which, dataset[data], bin_y, embedding_models_cache[file.name])\n",
    "        if result != {}:\n",
    "            dest_folder_path = Path(f\"./results/{which}/{file_path}/\")\n",
    "            dest_folder_path.mkdir(parents=True, exist_ok=True)\n",
    "            dest_path = dest_folder_path / (data + \".pkl\")\n",
    "            with dest_path.open(\"wb\") as dest_file:\n",
    "                joblib.dump(result, dest_file)"
   ]
  },
  {
   "cell_type": "code",
   "execution_count": null,
   "metadata": {},
   "outputs": [],
   "source": []
  }
 ],
 "metadata": {
  "kernelspec": {
   "display_name": "Python 3",
   "language": "python",
   "name": "python3"
  },
  "language_info": {
   "codemirror_mode": {
    "name": "ipython",
    "version": 3
   },
   "file_extension": ".py",
   "mimetype": "text/x-python",
   "name": "python",
   "nbconvert_exporter": "python",
   "pygments_lexer": "ipython3",
   "version": "3.8.10"
  }
 },
 "nbformat": 4,
 "nbformat_minor": 1
}
