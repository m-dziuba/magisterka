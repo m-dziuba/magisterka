{
 "cells": [
  {
   "cell_type": "code",
   "execution_count": 1,
   "metadata": {},
   "outputs": [],
   "source": [
    "from main import main, training_loop\n"
   ]
  },
  {
   "cell_type": "code",
   "execution_count": null,
   "metadata": {},
   "outputs": [
    {
     "name": "stdout",
     "output_type": "stream",
     "text": [
      "('lemmas',)\n"
     ]
    }
   ],
   "source": [
    "for model in [\"basic\", \"in_series\", \"cnn_lstm\"]:\n",
    "    training_loop(model)"
   ]
  },
  {
   "cell_type": "code",
   "execution_count": 8,
   "metadata": {},
   "outputs": [
    {
     "data": {
      "text/plain": [
       "lemmas+no_stopwords.pkl          0.795620\n",
       "clean+lemmas+no_stopwords.pkl    0.789386\n",
       "clean+no_stopwords.pkl           0.787713\n",
       "no_stopwords.pkl                 0.793035\n",
       "clean.pkl                        0.789386\n",
       "lemmas.pkl                       0.789386\n",
       "clean+lemmas.pkl                 0.795772\n",
       "dtype: float64"
      ]
     },
     "execution_count": 8,
     "metadata": {},
     "output_type": "execute_result"
    }
   ],
   "source": [
    "from pathlib import Path\n",
    "import joblib\n",
    "import pandas as pd\n",
    "res = {}\n",
    "res_path = Path(\"./results/in_series\")\n",
    "for _dir in res_path.iterdir():\n",
    "    res[_dir.name] = {}\n",
    "    for file in _dir.iterdir():\n",
    "        one_res = joblib.load(file)\n",
    "        res[_dir.name][file.name] = max(one_res.best_trial.intermediate_values.values())\n",
    "df = pd.DataFrame.from_dict(res)\n",
    "df.max(axis=1)"
   ]
  },
  {
   "cell_type": "code",
   "execution_count": 9,
   "metadata": {},
   "outputs": [
    {
     "data": {
      "text/plain": [
       "lemmas+no_stopwords.pkl          0.794860\n",
       "clean+lemmas+no_stopwords.pkl    0.800182\n",
       "clean+no_stopwords.pkl           0.772202\n",
       "no_stopwords.pkl                 0.780109\n",
       "clean.pkl                        0.797749\n",
       "lemmas.pkl                       0.797749\n",
       "clean+lemmas.pkl                 0.796837\n",
       "dtype: float64"
      ]
     },
     "execution_count": 9,
     "metadata": {},
     "output_type": "execute_result"
    }
   ],
   "source": [
    "from pathlib import Path\n",
    "import joblib\n",
    "import pandas as pd\n",
    "res = {}\n",
    "res_path = Path(\"./results/basic\")\n",
    "for _dir in res_path.iterdir():\n",
    "    res[_dir.name] = {}\n",
    "    for file in _dir.iterdir():\n",
    "        one_res = joblib.load(file)\n",
    "        res[_dir.name][file.name] = max(one_res.best_trial.intermediate_values.values())\n",
    "df = pd.DataFrame.from_dict(res)\n",
    "df.max(axis=1)"
   ]
  },
  {
   "cell_type": "code",
   "execution_count": 10,
   "metadata": {},
   "outputs": [
    {
     "data": {
      "text/plain": [
       "lemmas+no_stopwords.pkl          0.803072\n",
       "clean+lemmas+no_stopwords.pkl    0.804745\n",
       "clean+no_stopwords.pkl           0.803224\n",
       "no_stopwords.pkl                 0.803072\n",
       "clean.pkl                        0.809459\n",
       "lemmas.pkl                       0.807026\n",
       "clean+lemmas.pkl                 0.809459\n",
       "dtype: float64"
      ]
     },
     "execution_count": 10,
     "metadata": {},
     "output_type": "execute_result"
    }
   ],
   "source": [
    "from pathlib import Path\n",
    "import joblib\n",
    "import pandas as pd\n",
    "res = {}\n",
    "res_path = Path(\"./results/cnn_lstm\")\n",
    "for _dir in res_path.iterdir():\n",
    "    res[_dir.name] = {}\n",
    "    for file in _dir.iterdir():\n",
    "        one_res = joblib.load(file)\n",
    "        res[_dir.name][file.name] = max(one_res.best_trial.intermediate_values.values())\n",
    "df = pd.DataFrame.from_dict(res)\n",
    "df.max(axis=1)"
   ]
  }
 ],
 "metadata": {
  "kernelspec": {
   "display_name": "Python 3",
   "language": "python",
   "name": "python3"
  },
  "language_info": {
   "codemirror_mode": {
    "name": "ipython",
    "version": 3
   },
   "file_extension": ".py",
   "mimetype": "text/x-python",
   "name": "python",
   "nbconvert_exporter": "python",
   "pygments_lexer": "ipython3",
   "version": "3.8.10"
  }
 },
 "nbformat": 4,
 "nbformat_minor": 1
}
