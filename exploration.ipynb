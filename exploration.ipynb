{
 "cells": [
  {
   "cell_type": "code",
   "execution_count": 155,
   "outputs": [],
   "source": [
    "res = {}\n",
    "res_path = Path(\"./results\")\n",
    "for _dir in res_path.iterdir():\n",
    "    res[_dir.name] = {}\n",
    "    for file in _dir.iterdir():\n",
    "        one_res = joblib.load(file)\n",
    "        res[_dir.name][file.name] = max(one_res.best_trial.intermediate_values.values())\n"
   ],
   "metadata": {
    "collapsed": false
   }
  },
  {
   "cell_type": "code",
   "execution_count": 183,
   "outputs": [
    {
     "data": {
      "text/plain": "lemmas+no_stopwords.pkl          0.865316\nclean+lemmas+no_stopwords.pkl    0.872467\nclean+no_stopwords.pkl           0.871275\nno_stopwords.pkl                 0.872467\nclean.pkl                        0.874851\nlemmas.pkl                       0.868892\nclean+lemmas.pkl                 0.874851\ndtype: float64"
     },
     "execution_count": 183,
     "metadata": {},
     "output_type": "execute_result"
    }
   ],
   "source": [
    "df = pd.DataFrame.from_dict(res)\n",
    "df.max(axis=1)"
   ],
   "metadata": {
    "collapsed": false
   }
  }
 ],
 "metadata": {
  "kernelspec": {
   "display_name": "Python 3",
   "language": "python",
   "name": "python3"
  },
  "language_info": {
   "codemirror_mode": {
    "name": "ipython",
    "version": 3
   },
   "file_extension": ".py",
   "mimetype": "text/x-python",
   "name": "python",
   "nbconvert_exporter": "python",
   "pygments_lexer": "ipython3",
   "version": "3.8.10"
  }
 },
 "nbformat": 4,
 "nbformat_minor": 1
}
